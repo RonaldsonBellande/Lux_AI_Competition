{
 "cells": [
  {
   "cell_type": "code",
   "execution_count": 2,
   "id": "327d65c0-a19c-43e0-bc6e-4104f0cbef90",
   "metadata": {},
   "outputs": [
    {
     "name": "stdout",
     "output_type": "stream",
     "text": [
      "\u001b[33mWARNING: Running pip as the 'root' user can result in broken permissions and conflicting behaviour with the system package manager. It is recommended to use a virtual environment instead: https://pip.pypa.io/warnings/venv\u001b[0m\n"
     ]
    }
   ],
   "source": [
    "!pip install kaggle-environments -U > /dev/null\n"
   ]
  },
  {
   "cell_type": "code",
   "execution_count": 1,
   "id": "8723b096-46b1-4ab3-b34b-6fb67ee6561b",
   "metadata": {},
   "outputs": [
    {
     "name": "stdout",
     "output_type": "stream",
     "text": [
      "Loading environment football failed: No module named 'gfootball'\n"
     ]
    }
   ],
   "source": [
    "from kaggle_environments import make"
   ]
  },
  {
   "cell_type": "code",
   "execution_count": 2,
   "id": "2a2262d2-076c-4378-8c0a-6dcef5a68918",
   "metadata": {},
   "outputs": [],
   "source": [
    "env = make(\"lux_ai_2021\", configuration={\"seed\": 562124210, \"loglevel\": 2, \"annotations\": True}, debug=True)"
   ]
  },
  {
   "cell_type": "code",
   "execution_count": 21,
   "id": "8276b79b-6137-46ab-af50-f24d856ec235",
   "metadata": {},
   "outputs": [
    {
     "name": "stdout",
     "output_type": "stream",
     "text": [
      "CPU times: user 3.28 s, sys: 86.2 ms, total: 3.37 s\n",
      "Wall time: 3.47 s\n"
     ]
    }
   ],
   "source": [
    "%%time\n",
    "steps = env.run([\"simple_agent\", \"simple_agent\"])"
   ]
  },
  {
   "cell_type": "code",
   "execution_count": 18,
   "id": "8665ff28-ea84-4171-acf5-d4b567fc9cd9",
   "metadata": {},
   "outputs": [],
   "source": [
    "## we should append our result\n",
    "import sys\n",
    "sys.path.insert(0, \"/workspace/worskpace/Lux-Design-2021/kits/python/simple\")\n"
   ]
  },
  {
   "cell_type": "code",
   "execution_count": 129,
   "id": "2e744f5a-a022-48e9-9484-0cfb796d67f3",
   "metadata": {},
   "outputs": [],
   "source": [
    "from lux.game import Game\n",
    "from lux.game_map import Cell, RESOURCE_TYPES, Position\n",
    "from lux.constants import Constants\n",
    "from lux.game_constants import GAME_CONSTANTS\n",
    "from lux import annotate\n",
    "import math\n",
    "import sys\n",
    "\n",
    "import numpy as np\n",
    "import pandas as pd\n",
    "\n",
    "from numpy.random import choice"
   ]
  },
  {
   "cell_type": "code",
   "execution_count": 43,
   "id": "0fefc42f-77b2-4629-883b-beeba497fca8",
   "metadata": {},
   "outputs": [],
   "source": [
    "# we declare this global game_state object so that state persists across turns so we do not need to reinitialize it all the time\n",
    "game_state = None\n",
    "def agent(observation, configuration):\n",
    "    global game_state\n",
    "\n",
    "    ### Do not edit ###\n",
    "    if observation[\"step\"] == 0:\n",
    "        game_state = Game()\n",
    "        game_state._initialize(observation[\"updates\"])\n",
    "        game_state._update(observation[\"updates\"][2:])\n",
    "        game_state.id = observation.player\n",
    "    else:\n",
    "        game_state._update(observation[\"updates\"])\n",
    "\n",
    "    actions = []\n",
    "\n",
    "    ### AI Code goes down here! ### \n",
    "    player = game_state.players[observation.player]\n",
    "    opponent = game_state.players[(observation.player + 1) % 2]\n",
    "    width, height = game_state.map.width, game_state.map.height\n",
    "\n",
    "    # add debug statements like so!\n",
    "    if game_state.turn == 0:\n",
    "        print(\"Agent is running!\", file=sys.stderr)\n",
    "        actions.append(annotate.circle(0, 0))\n",
    "    return actions"
   ]
  },
  {
   "cell_type": "code",
   "execution_count": 44,
   "id": "869c0daf-737b-4c74-92a1-a2d2634ca84b",
   "metadata": {},
   "outputs": [],
   "source": [
    "# this snippet finds all resources stored on the map and puts them into a list so we can search over them\n",
    "def find_resources(game_state):\n",
    "    resource_tiles: list[Cell] = []\n",
    "    width, height = game_state.map_width, game_state.map_height\n",
    "    for y in range(height):\n",
    "        for x in range(width):\n",
    "            cell = game_state.map.get_cell(x, y)\n",
    "            if cell.has_resource():\n",
    "                resource_tiles.append(cell)\n",
    "    return resource_tiles\n",
    "\n",
    "# the next snippet finds the closest resources that we can mine given position on a map\n",
    "def find_closest_resources(pos, player, resource_tiles):\n",
    "    closest_dist = math.inf\n",
    "    closest_resource_tile = None\n",
    "    for resource_tile in resource_tiles:\n",
    "        # we skip over resources that we can't mine due to not having researched them\n",
    "        if resource_tile.resource.type == Constants.RESOURCE_TYPES.COAL and not player.researched_coal(): continue\n",
    "        if resource_tile.resource.type == Constants.RESOURCE_TYPES.URANIUM and not player.researched_uranium(): continue\n",
    "        dist = resource_tile.pos.distance_to(pos)\n",
    "        if dist < closest_dist:\n",
    "            closest_dist = dist\n",
    "            closest_resource_tile = resource_tile\n",
    "    return closest_resource_tile"
   ]
  },
  {
   "cell_type": "code",
   "execution_count": null,
   "id": "b3ffb8c0-f98d-4372-af19-3b539d613e27",
   "metadata": {},
   "outputs": [],
   "source": [
    "# lets look at some of the resources found\n",
    "resource_tiles = find_resources(game_state)\n",
    "cell = resource_tiles[0]\n",
    "print(\"Cell at\", cell.pos, \"has\")\n",
    "print(cell.resource.type, cell.resource.amount)"
   ]
  },
  {
   "cell_type": "code",
   "execution_count": 46,
   "id": "c1b8f4e6-0c0a-4037-a2ef-30fe328f3519",
   "metadata": {},
   "outputs": [
    {
     "name": "stdout",
     "output_type": "stream",
     "text": [
      "Agent is running!\n"
     ]
    }
   ],
   "source": [
    "env = make(\"lux_ai_2021\", configuration={\"seed\": 562124210, \"loglevel\": 2, \"annotations\": True}, debug=True)\n",
    "steps = env.run([agent, \"simple_agent\"])"
   ]
  },
  {
   "cell_type": "code",
   "execution_count": 114,
   "id": "c3af3c04-e850-4818-9d0e-0a176038edc5",
   "metadata": {},
   "outputs": [],
   "source": [
    "def retrieve_information_from_game_state(game_state, player_id=0):\n",
    "\n",
    "    \"\"\"\n",
    "    Retrieve the map in a tensor format :\n",
    "    map => (h, w, 12) tensor\n",
    "\n",
    "    0 channel is the cities information\n",
    "    1-2 channels is the units information\n",
    "    3-5 is the ressources information\n",
    "\n",
    "    \"\"\"\n",
    "\n",
    "    map = game_state.map\n",
    "\n",
    "    w = map.width\n",
    "    h = map.height\n",
    "\n",
    "    array_cities = np.zeros((h, w, 1))\n",
    "    array_units = np.zeros((h, w, 2)) # 2 channels for the units types\n",
    "\n",
    "    array_ressource = np.zeros((h, w, 3)) ## 3 channels for all resosurces\n",
    "\n",
    "    # Here we add the ressource on the map\n",
    "    for y in range(w):\n",
    "            for idx in range(h):\n",
    "                cell = map.map[y][idx]\n",
    "                if cell.has_resource():\n",
    "\n",
    "                    if cell.resource.type == Constants.RESOURCE_TYPES.WOOD:\n",
    "                        array_ressource[y, idx, 0] = 1\n",
    "                    if cell.resource.type == Constants.RESOURCE_TYPES.COAL:\n",
    "                        array_ressource[y, idx, 1] = 1\n",
    "                    if cell.resource.type == Constants.RESOURCE_TYPES.URANIUM:\n",
    "                        array_ressource[y, idx, 2] = 1\n",
    "\n",
    "    player = game_state.players[player_id]\n",
    "\n",
    "    # Here we add information about units and cities\n",
    "    for unit in player.units:\n",
    "        # if the unit is a worker (can mine resources) and can perform an action this turn\n",
    "        if unit.is_worker() and unit.can_act():\n",
    "            pos = unit.pos\n",
    "            array_units[pos.x, pos.y, 0] = 1\n",
    "            array_units[pos.x, pos.y, 1] = unit.get_cargo_space_left()/70\n",
    "            \n",
    "    for city in player.cities:\n",
    "        city_class = player.cities[city]\n",
    "        for citytile in city_class.citytiles:\n",
    "            pos = citytile.pos\n",
    "            array_cities[pos.x, pos.y, 0] = 1 \n",
    "\n",
    "    player = game_state.players[(player_id + 1) % 2]\n",
    "\n",
    "    # Here we add information about units and cities\n",
    "    for unit in player.units:\n",
    "        # if the unit is a worker (can mine resources) and can perform an action this turn\n",
    "        if unit.is_worker() and unit.can_act():\n",
    "            pos = unit.pos\n",
    "            array_units[pos.x, pos.y, 0] = -1\n",
    "\n",
    "    # citytiles computation\n",
    "    for city in player.cities:\n",
    "        city_class = player.cities[city]\n",
    "        for citytile in city_class.citytiles:\n",
    "            pos = citytile.pos\n",
    "            array_cities[pos.x, pos.y, 0] = -1 \n",
    "\n",
    "    return np.concatenate((array_cities, array_units, array_ressource), axis=-1)"
   ]
  },
  {
   "cell_type": "code",
   "execution_count": null,
   "id": "f29a0c7b-6427-4834-8beb-c2edd6fa67bc",
   "metadata": {},
   "outputs": [],
   "source": [
    "retrieve_information_from_game_state(game_state)"
   ]
  },
  {
   "cell_type": "code",
   "execution_count": null,
   "id": "493d70d3-8934-4a4a-9c56-68aded890456",
   "metadata": {},
   "outputs": [],
   "source": [
    "def compute_action(action_array_cities, actions_array_units, game_state, player_id=0, state_array):\n",
    "    \"\"\"\n",
    "    In input of the model we take \n",
    "    \n",
    "    action_array_cities = (w, h, c) where c is the number of action that the city can take (reseach, build worker of do nothing)\n",
    "    those are probability values so for each pixel we have we can manage what action will be taken with the mask value\n",
    "    c is 3 here\n",
    "    \n",
    "    actions_array_units = (w, h, c') where c' is the number of action that our units can take\n",
    "    c' is 5 for direction + 1 for build city action + ...\n",
    "    \"\"\"\n",
    "\n",
    "    player = game_state.players[(player_id + 1) % 2]\n",
    "\n",
    "    actions =[]\n",
    "    \n",
    "    action_list_units = [Constants.DIRECTIONS.CENTER, Constants.DIRECTIONS.EAST,\n",
    "                         Constants.DIRECTIONS.NORTH, Constants.DIRECTIONS.SOUTH, Constants.DIRECTIONS.WEST]\n",
    "\n",
    "    ## this part manage the units action\n",
    "    for unit in player.units:\n",
    "        # if the unit is a worker (can mine resources) and can perform an action this turn\n",
    "        if unit.is_worker() and unit.can_act():\n",
    "\n",
    "            pos = unit.pos\n",
    "\n",
    "            # we retrieve the position from the image\n",
    "            p_actions = actions_array_units[pos.x, pos.y, :]\n",
    "\n",
    "            # we mask the actions we can't do\n",
    "            if unit.can_build() == False:\n",
    "                p_actions[-1] = 0\n",
    "\n",
    "            # check direction too ... TODO\n",
    "\n",
    "            # renormalize action \n",
    "            p_actions = p_actions / np.sum(p_actions)\n",
    "\n",
    "            # select action according to the probability\n",
    "            tmp_action_index = choice(np.arange(6), 1, p=p_actions)\n",
    "\n",
    "            if tmp_action_index == 5:\n",
    "                ## building city\n",
    "                tmp_action = unit.build_city()\n",
    "                actions.append(tmp_action)\n",
    "            else:\n",
    "                # move action\n",
    "                tmp_action = unit.move(action_list_units[tmp_action_index])\n",
    "                actions.append(tmp_action)\n",
    "\n",
    "    ## this part manage the city part\n",
    "    for city in player.cities:\n",
    "        city_class = player.cities[city]\n",
    "        for citytile in city_class.citytiles:\n",
    "\n",
    "            ## we retrieve the citytile position\n",
    "            pos = citytile.pos\n",
    "            p_actions = action_array_cities[pos.x, pos.y, :]\n",
    "\n",
    "            if citytile.can_act() == False:\n",
    "                p_actions[-1] = 0\n",
    "                p_actions[-2] = 0\n",
    "\n",
    "            # renormalize action \n",
    "            p_actions = p_actions / np.sum(p_actions)\n",
    "            \n",
    "            tmp_action_index = choice(np.arange(3), 1, p=p_actions)\n",
    "            \n",
    "            if tmp_action_index == 0:\n",
    "                # we do nothing\n",
    "                pass\n",
    "            elif tmp_action_index == 1:\n",
    "                tmp_action = citytile.research()\n",
    "                actions.append(tmp_action)\n",
    "            elif tmp_action_index == 2:\n",
    "                tmp_action = citytile.build_worker()\n",
    "                actions.append(tmp_action)\n",
    "                \n",
    "    return actions\n"
   ]
  },
  {
   "cell_type": "code",
   "execution_count": 84,
   "id": "608ab2bc-a244-4595-b73f-2d43ad201f25",
   "metadata": {},
   "outputs": [
    {
     "data": {
      "text/plain": [
       "False"
      ]
     },
     "execution_count": 84,
     "metadata": {},
     "output_type": "execute_result"
    }
   ],
   "source": [
    "game_state.map.map[0][0].has_resource()"
   ]
  },
  {
   "cell_type": "code",
   "execution_count": null,
   "id": "d9c69d80-0da5-419c-b665-def818d6adc6",
   "metadata": {},
   "outputs": [],
   "source": []
  },
  {
   "cell_type": "code",
   "execution_count": 66,
   "id": "3f549271-030a-4d07-b4f3-54ccd09bfdc5",
   "metadata": {},
   "outputs": [
    {
     "data": {
      "text/plain": [
       "3"
      ]
     },
     "execution_count": 66,
     "metadata": {},
     "output_type": "execute_result"
    }
   ],
   "source": [
    "game_state.players[0].units[0].pos.x"
   ]
  },
  {
   "cell_type": "code",
   "execution_count": null,
   "id": "108757e1-c9bb-4316-b465-942b03020675",
   "metadata": {},
   "outputs": [],
   "source": []
  },
  {
   "cell_type": "code",
   "execution_count": null,
   "id": "ff1ea04f-1704-4235-8c55-b0c57f54dc41",
   "metadata": {},
   "outputs": [],
   "source": []
  },
  {
   "cell_type": "code",
   "execution_count": null,
   "id": "856af7ff-4454-482e-98dd-5df71e8e53d9",
   "metadata": {},
   "outputs": [],
   "source": []
  }
 ],
 "metadata": {
  "kernelspec": {
   "display_name": "Python 3",
   "language": "python",
   "name": "python3"
  },
  "language_info": {
   "codemirror_mode": {
    "name": "ipython",
    "version": 3
   },
   "file_extension": ".py",
   "mimetype": "text/x-python",
   "name": "python",
   "nbconvert_exporter": "python",
   "pygments_lexer": "ipython3",
   "version": "3.8.10"
  }
 },
 "nbformat": 4,
 "nbformat_minor": 5
}
